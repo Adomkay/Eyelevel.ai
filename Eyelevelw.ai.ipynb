{
 "cells": [
  {
   "cell_type": "raw",
   "metadata": {},
   "source": [
    "1. Why are there two Peter Ryans?\n",
    "   There are two Peter Ryans because user_IDs are page specific. This indicates that Peter Ryans interacted with the bot on two different pages and as such was issued two different user_IDs.\n",
    "\n",
    "2. Why is one row NULL?\n",
    "   The row is NULL because the userid is app-scoped. Send api uses IDs that are retrieved through messenger entry points or through messenger webhooks. The userid associated with NULL was not retrieved through these methods.\n",
    "\n",
    "3. Can you reconstruct what happened in the conversations from the botinputs?\n",
    "   From a visual analysis Peter Ryans begins on an informational page where the bot conversation starts. He then moves to another page serviced by the same chatbot where he is then interested in more specific products and services: Dental floss and More Services \n",
    "\n",
    "4. Can you convert the botinput strings into a more structured, useful form of data?\n",
    "   I converted botinput strings to vectors using the simple Bag of Words technique from sklearn's CountVectorizer(). This converts the corpus of strings into a sparse matrix for further mathematical analysis."
   ]
  },
  {
   "cell_type": "raw",
   "metadata": {
    "scrolled": false
   },
   "source": [
    "import mysql.connector\n",
    "\n",
    "file = open('sample.cashbot.sql')\n",
    "sql = file.read()\n",
    "\n",
    "\n",
    "cnx = mysql.connector.connect(user='root', password='Adomkay1958', host='localhost')\n",
    "cursor = cnx.cursor()\n"
   ]
  },
  {
   "cell_type": "code",
   "execution_count": 119,
   "metadata": {},
   "outputs": [],
   "source": [
    "import pandas as pd\n",
    "from sklearn.feature_extraction.text import CountVectorizer"
   ]
  },
  {
   "cell_type": "code",
   "execution_count": 4,
   "metadata": {},
   "outputs": [],
   "source": [
    "cursor.execute('CREATE DATABASE db')"
   ]
  },
  {
   "cell_type": "code",
   "execution_count": 6,
   "metadata": {},
   "outputs": [],
   "source": [
    "connect = mysql.connector.connect(user='root', password='password', host='localhost', database = 'db')\n",
    "cursor1 = connect.cursor()"
   ]
  },
  {
   "cell_type": "code",
   "execution_count": 7,
   "metadata": {},
   "outputs": [
    {
     "name": "stdout",
     "output_type": "stream",
     "text": [
      "Number of rows affected by statement '-- MySQL dump 10.13  Distrib 8.0.11, for osx10.13 (x86_64)\n",
      "--\n",
      "-- Host: localhost    Database: sample\n",
      "-- ------------------------------------------------------\n",
      "-- Server version\t8.0.11\n",
      "\n",
      "/*!40101 SET @OLD_CHARACTER_SET_CLIENT=@@CHARACTER_SET_CLIENT */': 0\n",
      "Number of rows affected by statement '/*!40101 SET @OLD_CHARACTER_SET_RESULTS=@@CHARACTER_SET_RESULTS */': 0\n",
      "Number of rows affected by statement '/*!40101 SET @OLD_COLLATION_CONNECTION=@@COLLATION_CONNECTION */': 0\n",
      "Number of rows affected by statement 'SET NAMES utf8mb4': 0\n",
      "Number of rows affected by statement '/*!40103 SET @OLD_TIME_ZONE=@@TIME_ZONE */': 0\n",
      "Number of rows affected by statement '/*!40103 SET TIME_ZONE='+00:00' */': 0\n",
      "Number of rows affected by statement '/*!40014 SET @OLD_UNIQUE_CHECKS=@@UNIQUE_CHECKS, UNIQUE_CHECKS=0 */': 0\n",
      "Number of rows affected by statement '/*!40014 SET @OLD_FOREIGN_KEY_CHECKS=@@FOREIGN_KEY_CHECKS, FOREIGN_KEY_CHECKS=0 */': 0\n",
      "Number of rows affected by statement '/*!40101 SET @OLD_SQL_MODE=@@SQL_MODE, SQL_MODE='NO_AUTO_VALUE_ON_ZERO' */': 0\n",
      "Number of rows affected by statement '/*!40111 SET @OLD_SQL_NOTES=@@SQL_NOTES, SQL_NOTES=0 */': 0\n",
      "Number of rows affected by statement '--\n",
      "-- Table structure for table `botinputs`\n",
      "--\n",
      "\n",
      "DROP TABLE IF EXISTS `botinputs`': 0\n",
      "Number of rows affected by statement '/*!40101 SET @saved_cs_client     = @@character_set_client */': 0\n",
      "Number of rows affected by statement 'SET character_set_client = utf8mb4': 0\n",
      "Number of rows affected by statement 'CREATE TABLE `botinputs` (\n",
      "  `userId` varchar(30) NOT NULL,\n",
      "  `apiKey` varchar(20) NOT NULL,\n",
      "  `type` varchar(8) NOT NULL,\n",
      "  `value` mediumtext NOT NULL\n",
      ") ENGINE=InnoDB DEFAULT CHARSET=utf8mb4 COLLATE=utf8mb4_0900_ai_ci': 0\n",
      "Number of rows affected by statement '/*!40101 SET character_set_client = @saved_cs_client */': 0\n",
      "Number of rows affected by statement '--\n",
      "-- Dumping data for table `botinputs`\n",
      "--\n",
      "\n",
      "LOCK TABLES `botinputs` WRITE': 0\n",
      "Number of rows affected by statement '/*!40000 ALTER TABLE `botinputs` DISABLE KEYS */': 0\n",
      "Number of rows affected by statement 'INSERT INTO `botinputs` VALUES ('1664036756995215','1739895288','text','services'),('1740538092655384','1739895288','button','No More Jokes'),('1740538092655384','1739895288','button','Yes'),('1740538092655384','1739895288','text','No'),('1740538092655384','1739895288','text','More'),('1740538092655384','1739895288','text','Hi'),('1740538092655384','1739895288','button','Within a year'),('1740538092655384','1739895288','text','Info'),('1414246548670778','1739895288','text','I need stuff'),('1414246548670778','1739895288','text','Dental floss'),('1414246548670778','1739895288','button','More Services'),('1414246548670778','1739895288','text','No')': 12\n",
      "Number of rows affected by statement '/*!40000 ALTER TABLE `botinputs` ENABLE KEYS */': 0\n",
      "Number of rows affected by statement 'UNLOCK TABLES': 0\n",
      "Number of rows affected by statement '--\n",
      "-- Table structure for table `botusers`\n",
      "--\n",
      "\n",
      "DROP TABLE IF EXISTS `botusers`': 0\n",
      "Number of rows affected by statement '/*!40101 SET @saved_cs_client     = @@character_set_client */': 0\n",
      "Number of rows affected by statement 'SET character_set_client = utf8mb4': 0\n",
      "Number of rows affected by statement 'CREATE TABLE `botusers` (\n",
      "  `name` varchar(50) DEFAULT NULL,\n",
      "  `apiKey` varchar(20) NOT NULL,\n",
      "  `gender` varchar(10) DEFAULT NULL,\n",
      "  `locale` varchar(10) DEFAULT NULL,\n",
      "  `timezone` int(11) DEFAULT '0',\n",
      "  `profilepic` mediumtext,\n",
      "  `userId` varchar(30) NOT NULL\n",
      ") ENGINE=InnoDB DEFAULT CHARSET=utf8mb4 COLLATE=utf8mb4_0900_ai_ci': 0\n",
      "Number of rows affected by statement '/*!40101 SET character_set_client = @saved_cs_client */': 0\n",
      "Number of rows affected by statement '--\n",
      "-- Dumping data for table `botusers`\n",
      "--\n",
      "\n",
      "LOCK TABLES `botusers` WRITE': 0\n",
      "Number of rows affected by statement '/*!40000 ALTER TABLE `botusers` DISABLE KEYS */': 0\n",
      "Number of rows affected by statement 'INSERT INTO `botusers` VALUES (NULL,'1739895288',NULL,NULL,NULL,NULL,'1664036756995215'),('Gabriel Alejandro Osinaga Caballero','3547005974','male','es_LA',-3,'https://scontent.xx.fbcdn.net/v/t1.0-1/12654283_1036309233094123_6422805831762179896_n.jpg?oh=78663d153d15efe156f21f8e45a79dce&oe=5A7DDD96','1486844958067448'),('Peter Ryans','1739895288','male','en_US',-7,'https://scontent.xx.fbcdn.net/v/t1.0-1/20032080_237424296767752_5701523959034336248_n.jpg?oh=049f346f2ed12cd8be37506ce3fdb4ba&oe=5A1877D0','1740538092655384'),('Peter Ryans','1739895288','male','en_US',-7,'https://scontent.xx.fbcdn.net/v/t1.0-1/20032080_237424296767752_5701523959034336248_n.jpg?oh=b5d2cad0ce757b82f36f212824b0b8ac&oe=59F0EAD0','1414246548670778'),('Frank Petruccelli','3547005974','male','en_US',-4,'https://scontent.xx.fbcdn.net/v/t1.0-1/10299967_10152400185811703_4846830651604722820_n.jpg?oh=78a2bd9feada9ab0fa4c7246c362e63c&oe=5991EC49','58116b5fe4b0ed25f85945a0'),('Agatha Dooreck','4144035441','female','en_US',-7,'https://scontent.xx.fbcdn.net/v/t31.0-1/17620082_985845815241_955996701879447268_o.jpg?oh=7803a2931c569907be34c081be5d63e3&oe=59788504','1505482576138164')': 6\n",
      "Number of rows affected by statement '/*!40000 ALTER TABLE `botusers` ENABLE KEYS */': 0\n",
      "Number of rows affected by statement 'UNLOCK TABLES': 0\n",
      "Number of rows affected by statement '/*!40103 SET TIME_ZONE=@OLD_TIME_ZONE */': 0\n",
      "Number of rows affected by statement '/*!40101 SET SQL_MODE=@OLD_SQL_MODE */': 0\n",
      "Number of rows affected by statement '/*!40014 SET FOREIGN_KEY_CHECKS=@OLD_FOREIGN_KEY_CHECKS */': 0\n",
      "Number of rows affected by statement '/*!40014 SET UNIQUE_CHECKS=@OLD_UNIQUE_CHECKS */': 0\n",
      "Number of rows affected by statement '/*!40101 SET CHARACTER_SET_CLIENT=@OLD_CHARACTER_SET_CLIENT */': 0\n",
      "Number of rows affected by statement '/*!40101 SET CHARACTER_SET_RESULTS=@OLD_CHARACTER_SET_RESULTS */': 0\n",
      "Number of rows affected by statement '/*!40101 SET COLLATION_CONNECTION=@OLD_COLLATION_CONNECTION */': 0\n",
      "Number of rows affected by statement '/*!40111 SET SQL_NOTES=@OLD_SQL_NOTES */': 0\n",
      "Number of rows affected by statement '-- Dump completed on 2018-07-01 15:52:06': 0\n"
     ]
    }
   ],
   "source": [
    "for result in cursor1.execute(sql, multi=True):\n",
    "  if result.with_rows:\n",
    "    print(\"Rows produced by statement '{}':\".format(\n",
    "      result.statement))\n",
    "    print(result.fetchall())\n",
    "  else:\n",
    "    print(\"Number of rows affected by statement '{}': {}\".format(\n",
    "      result.statement, result.rowcount))\n"
   ]
  },
  {
   "cell_type": "code",
   "execution_count": 8,
   "metadata": {},
   "outputs": [],
   "source": [
    "cursor1.execute('SHOW TABLES')"
   ]
  },
  {
   "cell_type": "code",
   "execution_count": 9,
   "metadata": {},
   "outputs": [
    {
     "data": {
      "text/plain": [
       "[('botinputs',), ('botusers',)]"
      ]
     },
     "execution_count": 9,
     "metadata": {},
     "output_type": "execute_result"
    }
   ],
   "source": [
    "cursor1.fetchall()"
   ]
  },
  {
   "cell_type": "code",
   "execution_count": 13,
   "metadata": {},
   "outputs": [],
   "source": [
    "cursor1.execute('DESC botinputs')"
   ]
  },
  {
   "cell_type": "code",
   "execution_count": 14,
   "metadata": {},
   "outputs": [],
   "source": [
    "tables = cursor1.fetchall()"
   ]
  },
  {
   "cell_type": "code",
   "execution_count": 16,
   "metadata": {},
   "outputs": [],
   "source": [
    "cursor1.execute('SELECT * FROM botusers')"
   ]
  },
  {
   "cell_type": "code",
   "execution_count": 17,
   "metadata": {},
   "outputs": [],
   "source": [
    "botusers = cursor1.fetchall()"
   ]
  },
  {
   "cell_type": "code",
   "execution_count": 19,
   "metadata": {},
   "outputs": [
    {
     "data": {
      "text/plain": [
       "list"
      ]
     },
     "execution_count": 19,
     "metadata": {},
     "output_type": "execute_result"
    }
   ],
   "source": [
    "type(botusers)"
   ]
  },
  {
   "cell_type": "code",
   "execution_count": 22,
   "metadata": {},
   "outputs": [],
   "source": [
    "cursor1.execute('SELECT * FROM botinputs')"
   ]
  },
  {
   "cell_type": "code",
   "execution_count": 23,
   "metadata": {},
   "outputs": [],
   "source": [
    "botinputs = cursor1.fetchall()"
   ]
  },
  {
   "cell_type": "code",
   "execution_count": 25,
   "metadata": {},
   "outputs": [
    {
     "data": {
      "text/plain": [
       "[(None, '1739895288', None, None, None, None, '1664036756995215'),\n",
       " ('Gabriel Alejandro Osinaga Caballero',\n",
       "  '3547005974',\n",
       "  'male',\n",
       "  'es_LA',\n",
       "  -3,\n",
       "  'https://scontent.xx.fbcdn.net/v/t1.0-1/12654283_1036309233094123_6422805831762179896_n.jpg?oh=78663d153d15efe156f21f8e45a79dce&oe=5A7DDD96',\n",
       "  '1486844958067448'),\n",
       " ('Peter Ryans',\n",
       "  '1739895288',\n",
       "  'male',\n",
       "  'en_US',\n",
       "  -7,\n",
       "  'https://scontent.xx.fbcdn.net/v/t1.0-1/20032080_237424296767752_5701523959034336248_n.jpg?oh=049f346f2ed12cd8be37506ce3fdb4ba&oe=5A1877D0',\n",
       "  '1740538092655384'),\n",
       " ('Peter Ryans',\n",
       "  '1739895288',\n",
       "  'male',\n",
       "  'en_US',\n",
       "  -7,\n",
       "  'https://scontent.xx.fbcdn.net/v/t1.0-1/20032080_237424296767752_5701523959034336248_n.jpg?oh=b5d2cad0ce757b82f36f212824b0b8ac&oe=59F0EAD0',\n",
       "  '1414246548670778'),\n",
       " ('Frank Petruccelli',\n",
       "  '3547005974',\n",
       "  'male',\n",
       "  'en_US',\n",
       "  -4,\n",
       "  'https://scontent.xx.fbcdn.net/v/t1.0-1/10299967_10152400185811703_4846830651604722820_n.jpg?oh=78a2bd9feada9ab0fa4c7246c362e63c&oe=5991EC49',\n",
       "  '58116b5fe4b0ed25f85945a0'),\n",
       " ('Agatha Dooreck',\n",
       "  '4144035441',\n",
       "  'female',\n",
       "  'en_US',\n",
       "  -7,\n",
       "  'https://scontent.xx.fbcdn.net/v/t31.0-1/17620082_985845815241_955996701879447268_o.jpg?oh=7803a2931c569907be34c081be5d63e3&oe=59788504',\n",
       "  '1505482576138164')]"
      ]
     },
     "execution_count": 25,
     "metadata": {},
     "output_type": "execute_result"
    }
   ],
   "source": [
    "botusers"
   ]
  },
  {
   "cell_type": "code",
   "execution_count": 33,
   "metadata": {},
   "outputs": [],
   "source": [
    "user_labels = ['name', 'apikey', 'gender', 'locale', 'timezone', 'profilepic', 'userid']"
   ]
  },
  {
   "cell_type": "code",
   "execution_count": 49,
   "metadata": {},
   "outputs": [],
   "source": [
    "input_labels = ['userid','apikey','type','value']"
   ]
  },
  {
   "cell_type": "code",
   "execution_count": 69,
   "metadata": {},
   "outputs": [],
   "source": [
    "botinputs_df = pd.DataFrame.from_records(botinputs, columns = input_labels)"
   ]
  },
  {
   "cell_type": "code",
   "execution_count": 70,
   "metadata": {},
   "outputs": [
    {
     "data": {
      "text/plain": [
       "('1740538092655384', '1739895288', 'button', 'No More Jokes')"
      ]
     },
     "execution_count": 70,
     "metadata": {},
     "output_type": "execute_result"
    }
   ],
   "source": [
    "botinputs[1]"
   ]
  },
  {
   "cell_type": "code",
   "execution_count": 71,
   "metadata": {
    "scrolled": true
   },
   "outputs": [
    {
     "data": {
      "text/html": [
       "<div>\n",
       "<style scoped>\n",
       "    .dataframe tbody tr th:only-of-type {\n",
       "        vertical-align: middle;\n",
       "    }\n",
       "\n",
       "    .dataframe tbody tr th {\n",
       "        vertical-align: top;\n",
       "    }\n",
       "\n",
       "    .dataframe thead th {\n",
       "        text-align: right;\n",
       "    }\n",
       "</style>\n",
       "<table border=\"1\" class=\"dataframe\">\n",
       "  <thead>\n",
       "    <tr style=\"text-align: right;\">\n",
       "      <th></th>\n",
       "      <th>userid</th>\n",
       "      <th>apikey</th>\n",
       "      <th>type</th>\n",
       "      <th>value</th>\n",
       "    </tr>\n",
       "  </thead>\n",
       "  <tbody>\n",
       "    <tr>\n",
       "      <th>0</th>\n",
       "      <td>1664036756995215</td>\n",
       "      <td>1739895288</td>\n",
       "      <td>text</td>\n",
       "      <td>services</td>\n",
       "    </tr>\n",
       "    <tr>\n",
       "      <th>1</th>\n",
       "      <td>1740538092655384</td>\n",
       "      <td>1739895288</td>\n",
       "      <td>button</td>\n",
       "      <td>No More Jokes</td>\n",
       "    </tr>\n",
       "    <tr>\n",
       "      <th>2</th>\n",
       "      <td>1740538092655384</td>\n",
       "      <td>1739895288</td>\n",
       "      <td>button</td>\n",
       "      <td>Yes</td>\n",
       "    </tr>\n",
       "    <tr>\n",
       "      <th>3</th>\n",
       "      <td>1740538092655384</td>\n",
       "      <td>1739895288</td>\n",
       "      <td>text</td>\n",
       "      <td>No</td>\n",
       "    </tr>\n",
       "    <tr>\n",
       "      <th>4</th>\n",
       "      <td>1740538092655384</td>\n",
       "      <td>1739895288</td>\n",
       "      <td>text</td>\n",
       "      <td>More</td>\n",
       "    </tr>\n",
       "    <tr>\n",
       "      <th>5</th>\n",
       "      <td>1740538092655384</td>\n",
       "      <td>1739895288</td>\n",
       "      <td>text</td>\n",
       "      <td>Hi</td>\n",
       "    </tr>\n",
       "    <tr>\n",
       "      <th>6</th>\n",
       "      <td>1740538092655384</td>\n",
       "      <td>1739895288</td>\n",
       "      <td>button</td>\n",
       "      <td>Within a year</td>\n",
       "    </tr>\n",
       "    <tr>\n",
       "      <th>7</th>\n",
       "      <td>1740538092655384</td>\n",
       "      <td>1739895288</td>\n",
       "      <td>text</td>\n",
       "      <td>Info</td>\n",
       "    </tr>\n",
       "    <tr>\n",
       "      <th>8</th>\n",
       "      <td>1414246548670778</td>\n",
       "      <td>1739895288</td>\n",
       "      <td>text</td>\n",
       "      <td>I need stuff</td>\n",
       "    </tr>\n",
       "    <tr>\n",
       "      <th>9</th>\n",
       "      <td>1414246548670778</td>\n",
       "      <td>1739895288</td>\n",
       "      <td>text</td>\n",
       "      <td>Dental floss</td>\n",
       "    </tr>\n",
       "    <tr>\n",
       "      <th>10</th>\n",
       "      <td>1414246548670778</td>\n",
       "      <td>1739895288</td>\n",
       "      <td>button</td>\n",
       "      <td>More Services</td>\n",
       "    </tr>\n",
       "    <tr>\n",
       "      <th>11</th>\n",
       "      <td>1414246548670778</td>\n",
       "      <td>1739895288</td>\n",
       "      <td>text</td>\n",
       "      <td>No</td>\n",
       "    </tr>\n",
       "  </tbody>\n",
       "</table>\n",
       "</div>"
      ],
      "text/plain": [
       "              userid      apikey    type          value\n",
       "0   1664036756995215  1739895288    text       services\n",
       "1   1740538092655384  1739895288  button  No More Jokes\n",
       "2   1740538092655384  1739895288  button            Yes\n",
       "3   1740538092655384  1739895288    text             No\n",
       "4   1740538092655384  1739895288    text           More\n",
       "5   1740538092655384  1739895288    text             Hi\n",
       "6   1740538092655384  1739895288  button  Within a year\n",
       "7   1740538092655384  1739895288    text           Info\n",
       "8   1414246548670778  1739895288    text   I need stuff\n",
       "9   1414246548670778  1739895288    text   Dental floss\n",
       "10  1414246548670778  1739895288  button  More Services\n",
       "11  1414246548670778  1739895288    text             No"
      ]
     },
     "execution_count": 71,
     "metadata": {},
     "output_type": "execute_result"
    }
   ],
   "source": [
    "botinputs_df"
   ]
  },
  {
   "cell_type": "code",
   "execution_count": 62,
   "metadata": {},
   "outputs": [],
   "source": [
    "botinputs_df = botinputs_df[['userid', 'apikey']].apply(pd.to_numeric)"
   ]
  },
  {
   "cell_type": "code",
   "execution_count": 68,
   "metadata": {},
   "outputs": [
    {
     "data": {
      "text/plain": [
       "userid    int64\n",
       "apikey    int64\n",
       "dtype: object"
      ]
     },
     "execution_count": 68,
     "metadata": {},
     "output_type": "execute_result"
    }
   ],
   "source": [
    "botinputs_df.dtypes"
   ]
  },
  {
   "cell_type": "code",
   "execution_count": 42,
   "metadata": {},
   "outputs": [],
   "source": [
    "botusers_df = pd.DataFrame.from_records(botusers, columns = user_labels)"
   ]
  },
  {
   "cell_type": "code",
   "execution_count": 43,
   "metadata": {},
   "outputs": [
    {
     "data": {
      "text/html": [
       "<div>\n",
       "<style scoped>\n",
       "    .dataframe tbody tr th:only-of-type {\n",
       "        vertical-align: middle;\n",
       "    }\n",
       "\n",
       "    .dataframe tbody tr th {\n",
       "        vertical-align: top;\n",
       "    }\n",
       "\n",
       "    .dataframe thead th {\n",
       "        text-align: right;\n",
       "    }\n",
       "</style>\n",
       "<table border=\"1\" class=\"dataframe\">\n",
       "  <thead>\n",
       "    <tr style=\"text-align: right;\">\n",
       "      <th></th>\n",
       "      <th>name</th>\n",
       "      <th>apikey</th>\n",
       "      <th>gender</th>\n",
       "      <th>locale</th>\n",
       "      <th>timezone</th>\n",
       "      <th>profilepic</th>\n",
       "      <th>userid</th>\n",
       "    </tr>\n",
       "  </thead>\n",
       "  <tbody>\n",
       "    <tr>\n",
       "      <th>0</th>\n",
       "      <td>None</td>\n",
       "      <td>1739895288</td>\n",
       "      <td>None</td>\n",
       "      <td>None</td>\n",
       "      <td>NaN</td>\n",
       "      <td>None</td>\n",
       "      <td>1664036756995215</td>\n",
       "    </tr>\n",
       "    <tr>\n",
       "      <th>1</th>\n",
       "      <td>Gabriel Alejandro Osinaga Caballero</td>\n",
       "      <td>3547005974</td>\n",
       "      <td>male</td>\n",
       "      <td>es_LA</td>\n",
       "      <td>-3.0</td>\n",
       "      <td>https://scontent.xx.fbcdn.net/v/t1.0-1/1265428...</td>\n",
       "      <td>1486844958067448</td>\n",
       "    </tr>\n",
       "    <tr>\n",
       "      <th>2</th>\n",
       "      <td>Peter Ryans</td>\n",
       "      <td>1739895288</td>\n",
       "      <td>male</td>\n",
       "      <td>en_US</td>\n",
       "      <td>-7.0</td>\n",
       "      <td>https://scontent.xx.fbcdn.net/v/t1.0-1/2003208...</td>\n",
       "      <td>1740538092655384</td>\n",
       "    </tr>\n",
       "    <tr>\n",
       "      <th>3</th>\n",
       "      <td>Peter Ryans</td>\n",
       "      <td>1739895288</td>\n",
       "      <td>male</td>\n",
       "      <td>en_US</td>\n",
       "      <td>-7.0</td>\n",
       "      <td>https://scontent.xx.fbcdn.net/v/t1.0-1/2003208...</td>\n",
       "      <td>1414246548670778</td>\n",
       "    </tr>\n",
       "    <tr>\n",
       "      <th>4</th>\n",
       "      <td>Frank Petruccelli</td>\n",
       "      <td>3547005974</td>\n",
       "      <td>male</td>\n",
       "      <td>en_US</td>\n",
       "      <td>-4.0</td>\n",
       "      <td>https://scontent.xx.fbcdn.net/v/t1.0-1/1029996...</td>\n",
       "      <td>58116b5fe4b0ed25f85945a0</td>\n",
       "    </tr>\n",
       "    <tr>\n",
       "      <th>5</th>\n",
       "      <td>Agatha Dooreck</td>\n",
       "      <td>4144035441</td>\n",
       "      <td>female</td>\n",
       "      <td>en_US</td>\n",
       "      <td>-7.0</td>\n",
       "      <td>https://scontent.xx.fbcdn.net/v/t31.0-1/176200...</td>\n",
       "      <td>1505482576138164</td>\n",
       "    </tr>\n",
       "  </tbody>\n",
       "</table>\n",
       "</div>"
      ],
      "text/plain": [
       "                                  name      apikey  gender locale  timezone  \\\n",
       "0                                 None  1739895288    None   None       NaN   \n",
       "1  Gabriel Alejandro Osinaga Caballero  3547005974    male  es_LA      -3.0   \n",
       "2                          Peter Ryans  1739895288    male  en_US      -7.0   \n",
       "3                          Peter Ryans  1739895288    male  en_US      -7.0   \n",
       "4                    Frank Petruccelli  3547005974    male  en_US      -4.0   \n",
       "5                       Agatha Dooreck  4144035441  female  en_US      -7.0   \n",
       "\n",
       "                                          profilepic                    userid  \n",
       "0                                               None          1664036756995215  \n",
       "1  https://scontent.xx.fbcdn.net/v/t1.0-1/1265428...          1486844958067448  \n",
       "2  https://scontent.xx.fbcdn.net/v/t1.0-1/2003208...          1740538092655384  \n",
       "3  https://scontent.xx.fbcdn.net/v/t1.0-1/2003208...          1414246548670778  \n",
       "4  https://scontent.xx.fbcdn.net/v/t1.0-1/1029996...  58116b5fe4b0ed25f85945a0  \n",
       "5  https://scontent.xx.fbcdn.net/v/t31.0-1/176200...          1505482576138164  "
      ]
     },
     "execution_count": 43,
     "metadata": {},
     "output_type": "execute_result"
    }
   ],
   "source": [
    "botusers_df"
   ]
  },
  {
   "cell_type": "code",
   "execution_count": 74,
   "metadata": {},
   "outputs": [],
   "source": [
    "merged_df = pd.merge(botinputs_df, botusers_df, on = ['userid', 'apikey'], how = 'left' )"
   ]
  },
  {
   "cell_type": "code",
   "execution_count": 75,
   "metadata": {},
   "outputs": [
    {
     "data": {
      "text/html": [
       "<div>\n",
       "<style scoped>\n",
       "    .dataframe tbody tr th:only-of-type {\n",
       "        vertical-align: middle;\n",
       "    }\n",
       "\n",
       "    .dataframe tbody tr th {\n",
       "        vertical-align: top;\n",
       "    }\n",
       "\n",
       "    .dataframe thead th {\n",
       "        text-align: right;\n",
       "    }\n",
       "</style>\n",
       "<table border=\"1\" class=\"dataframe\">\n",
       "  <thead>\n",
       "    <tr style=\"text-align: right;\">\n",
       "      <th></th>\n",
       "      <th>userid</th>\n",
       "      <th>apikey</th>\n",
       "      <th>type</th>\n",
       "      <th>value</th>\n",
       "      <th>name</th>\n",
       "      <th>gender</th>\n",
       "      <th>locale</th>\n",
       "      <th>timezone</th>\n",
       "      <th>profilepic</th>\n",
       "    </tr>\n",
       "  </thead>\n",
       "  <tbody>\n",
       "    <tr>\n",
       "      <th>0</th>\n",
       "      <td>1664036756995215</td>\n",
       "      <td>1739895288</td>\n",
       "      <td>text</td>\n",
       "      <td>services</td>\n",
       "      <td>None</td>\n",
       "      <td>None</td>\n",
       "      <td>None</td>\n",
       "      <td>NaN</td>\n",
       "      <td>None</td>\n",
       "    </tr>\n",
       "    <tr>\n",
       "      <th>1</th>\n",
       "      <td>1740538092655384</td>\n",
       "      <td>1739895288</td>\n",
       "      <td>button</td>\n",
       "      <td>No More Jokes</td>\n",
       "      <td>Peter Ryans</td>\n",
       "      <td>male</td>\n",
       "      <td>en_US</td>\n",
       "      <td>-7.0</td>\n",
       "      <td>https://scontent.xx.fbcdn.net/v/t1.0-1/2003208...</td>\n",
       "    </tr>\n",
       "    <tr>\n",
       "      <th>2</th>\n",
       "      <td>1740538092655384</td>\n",
       "      <td>1739895288</td>\n",
       "      <td>button</td>\n",
       "      <td>Yes</td>\n",
       "      <td>Peter Ryans</td>\n",
       "      <td>male</td>\n",
       "      <td>en_US</td>\n",
       "      <td>-7.0</td>\n",
       "      <td>https://scontent.xx.fbcdn.net/v/t1.0-1/2003208...</td>\n",
       "    </tr>\n",
       "    <tr>\n",
       "      <th>3</th>\n",
       "      <td>1740538092655384</td>\n",
       "      <td>1739895288</td>\n",
       "      <td>text</td>\n",
       "      <td>No</td>\n",
       "      <td>Peter Ryans</td>\n",
       "      <td>male</td>\n",
       "      <td>en_US</td>\n",
       "      <td>-7.0</td>\n",
       "      <td>https://scontent.xx.fbcdn.net/v/t1.0-1/2003208...</td>\n",
       "    </tr>\n",
       "    <tr>\n",
       "      <th>4</th>\n",
       "      <td>1740538092655384</td>\n",
       "      <td>1739895288</td>\n",
       "      <td>text</td>\n",
       "      <td>More</td>\n",
       "      <td>Peter Ryans</td>\n",
       "      <td>male</td>\n",
       "      <td>en_US</td>\n",
       "      <td>-7.0</td>\n",
       "      <td>https://scontent.xx.fbcdn.net/v/t1.0-1/2003208...</td>\n",
       "    </tr>\n",
       "    <tr>\n",
       "      <th>5</th>\n",
       "      <td>1740538092655384</td>\n",
       "      <td>1739895288</td>\n",
       "      <td>text</td>\n",
       "      <td>Hi</td>\n",
       "      <td>Peter Ryans</td>\n",
       "      <td>male</td>\n",
       "      <td>en_US</td>\n",
       "      <td>-7.0</td>\n",
       "      <td>https://scontent.xx.fbcdn.net/v/t1.0-1/2003208...</td>\n",
       "    </tr>\n",
       "    <tr>\n",
       "      <th>6</th>\n",
       "      <td>1740538092655384</td>\n",
       "      <td>1739895288</td>\n",
       "      <td>button</td>\n",
       "      <td>Within a year</td>\n",
       "      <td>Peter Ryans</td>\n",
       "      <td>male</td>\n",
       "      <td>en_US</td>\n",
       "      <td>-7.0</td>\n",
       "      <td>https://scontent.xx.fbcdn.net/v/t1.0-1/2003208...</td>\n",
       "    </tr>\n",
       "    <tr>\n",
       "      <th>7</th>\n",
       "      <td>1740538092655384</td>\n",
       "      <td>1739895288</td>\n",
       "      <td>text</td>\n",
       "      <td>Info</td>\n",
       "      <td>Peter Ryans</td>\n",
       "      <td>male</td>\n",
       "      <td>en_US</td>\n",
       "      <td>-7.0</td>\n",
       "      <td>https://scontent.xx.fbcdn.net/v/t1.0-1/2003208...</td>\n",
       "    </tr>\n",
       "    <tr>\n",
       "      <th>8</th>\n",
       "      <td>1414246548670778</td>\n",
       "      <td>1739895288</td>\n",
       "      <td>text</td>\n",
       "      <td>I need stuff</td>\n",
       "      <td>Peter Ryans</td>\n",
       "      <td>male</td>\n",
       "      <td>en_US</td>\n",
       "      <td>-7.0</td>\n",
       "      <td>https://scontent.xx.fbcdn.net/v/t1.0-1/2003208...</td>\n",
       "    </tr>\n",
       "    <tr>\n",
       "      <th>9</th>\n",
       "      <td>1414246548670778</td>\n",
       "      <td>1739895288</td>\n",
       "      <td>text</td>\n",
       "      <td>Dental floss</td>\n",
       "      <td>Peter Ryans</td>\n",
       "      <td>male</td>\n",
       "      <td>en_US</td>\n",
       "      <td>-7.0</td>\n",
       "      <td>https://scontent.xx.fbcdn.net/v/t1.0-1/2003208...</td>\n",
       "    </tr>\n",
       "    <tr>\n",
       "      <th>10</th>\n",
       "      <td>1414246548670778</td>\n",
       "      <td>1739895288</td>\n",
       "      <td>button</td>\n",
       "      <td>More Services</td>\n",
       "      <td>Peter Ryans</td>\n",
       "      <td>male</td>\n",
       "      <td>en_US</td>\n",
       "      <td>-7.0</td>\n",
       "      <td>https://scontent.xx.fbcdn.net/v/t1.0-1/2003208...</td>\n",
       "    </tr>\n",
       "    <tr>\n",
       "      <th>11</th>\n",
       "      <td>1414246548670778</td>\n",
       "      <td>1739895288</td>\n",
       "      <td>text</td>\n",
       "      <td>No</td>\n",
       "      <td>Peter Ryans</td>\n",
       "      <td>male</td>\n",
       "      <td>en_US</td>\n",
       "      <td>-7.0</td>\n",
       "      <td>https://scontent.xx.fbcdn.net/v/t1.0-1/2003208...</td>\n",
       "    </tr>\n",
       "  </tbody>\n",
       "</table>\n",
       "</div>"
      ],
      "text/plain": [
       "              userid      apikey    type          value         name gender  \\\n",
       "0   1664036756995215  1739895288    text       services         None   None   \n",
       "1   1740538092655384  1739895288  button  No More Jokes  Peter Ryans   male   \n",
       "2   1740538092655384  1739895288  button            Yes  Peter Ryans   male   \n",
       "3   1740538092655384  1739895288    text             No  Peter Ryans   male   \n",
       "4   1740538092655384  1739895288    text           More  Peter Ryans   male   \n",
       "5   1740538092655384  1739895288    text             Hi  Peter Ryans   male   \n",
       "6   1740538092655384  1739895288  button  Within a year  Peter Ryans   male   \n",
       "7   1740538092655384  1739895288    text           Info  Peter Ryans   male   \n",
       "8   1414246548670778  1739895288    text   I need stuff  Peter Ryans   male   \n",
       "9   1414246548670778  1739895288    text   Dental floss  Peter Ryans   male   \n",
       "10  1414246548670778  1739895288  button  More Services  Peter Ryans   male   \n",
       "11  1414246548670778  1739895288    text             No  Peter Ryans   male   \n",
       "\n",
       "   locale  timezone                                         profilepic  \n",
       "0    None       NaN                                               None  \n",
       "1   en_US      -7.0  https://scontent.xx.fbcdn.net/v/t1.0-1/2003208...  \n",
       "2   en_US      -7.0  https://scontent.xx.fbcdn.net/v/t1.0-1/2003208...  \n",
       "3   en_US      -7.0  https://scontent.xx.fbcdn.net/v/t1.0-1/2003208...  \n",
       "4   en_US      -7.0  https://scontent.xx.fbcdn.net/v/t1.0-1/2003208...  \n",
       "5   en_US      -7.0  https://scontent.xx.fbcdn.net/v/t1.0-1/2003208...  \n",
       "6   en_US      -7.0  https://scontent.xx.fbcdn.net/v/t1.0-1/2003208...  \n",
       "7   en_US      -7.0  https://scontent.xx.fbcdn.net/v/t1.0-1/2003208...  \n",
       "8   en_US      -7.0  https://scontent.xx.fbcdn.net/v/t1.0-1/2003208...  \n",
       "9   en_US      -7.0  https://scontent.xx.fbcdn.net/v/t1.0-1/2003208...  \n",
       "10  en_US      -7.0  https://scontent.xx.fbcdn.net/v/t1.0-1/2003208...  \n",
       "11  en_US      -7.0  https://scontent.xx.fbcdn.net/v/t1.0-1/2003208...  "
      ]
     },
     "execution_count": 75,
     "metadata": {},
     "output_type": "execute_result"
    }
   ],
   "source": [
    "merged_df"
   ]
  },
  {
   "cell_type": "code",
   "execution_count": 93,
   "metadata": {},
   "outputs": [],
   "source": [
    "strings = merged_df['value']"
   ]
  },
  {
   "cell_type": "code",
   "execution_count": 99,
   "metadata": {},
   "outputs": [],
   "source": [
    "corpus = [string.lower() for string in strings]"
   ]
  },
  {
   "cell_type": "code",
   "execution_count": 100,
   "metadata": {},
   "outputs": [
    {
     "data": {
      "text/plain": [
       "['services',\n",
       " 'no more jokes',\n",
       " 'yes',\n",
       " 'no',\n",
       " 'more',\n",
       " 'hi',\n",
       " 'within a year',\n",
       " 'info',\n",
       " 'i need stuff',\n",
       " 'dental floss',\n",
       " 'more services',\n",
       " 'no']"
      ]
     },
     "execution_count": 100,
     "metadata": {},
     "output_type": "execute_result"
    }
   ],
   "source": [
    "corpus"
   ]
  },
  {
   "cell_type": "code",
   "execution_count": 113,
   "metadata": {},
   "outputs": [],
   "source": [
    "# VECTORIZE BOTINPUTS USING BAG OF WORDS\n",
    "def vectorize_text(text):\n",
    "    vectorizer = CountVectorizer()\n",
    "    vectors = vectorizer.fit_transform(text)\n",
    "    return vectorizer, vectors\n",
    "    "
   ]
  },
  {
   "cell_type": "code",
   "execution_count": 114,
   "metadata": {},
   "outputs": [],
   "source": [
    "vectorizer, vectors = vectorize_text(corpus)"
   ]
  },
  {
   "cell_type": "code",
   "execution_count": 120,
   "metadata": {},
   "outputs": [
    {
     "data": {
      "text/plain": [
       "['dental',\n",
       " 'floss',\n",
       " 'hi',\n",
       " 'info',\n",
       " 'jokes',\n",
       " 'more',\n",
       " 'need',\n",
       " 'no',\n",
       " 'services',\n",
       " 'stuff',\n",
       " 'within',\n",
       " 'year',\n",
       " 'yes']"
      ]
     },
     "execution_count": 120,
     "metadata": {},
     "output_type": "execute_result"
    }
   ],
   "source": [
    "# BAG OF WORDS FEATURE NAMES\n",
    "vectorizer.get_feature_names()"
   ]
  },
  {
   "cell_type": "code",
   "execution_count": 118,
   "metadata": {},
   "outputs": [
    {
     "data": {
      "text/plain": [
       "array([[0, 0, 0, 0, 0, 0, 0, 0, 1, 0, 0, 0, 0],\n",
       "       [0, 0, 0, 0, 1, 1, 0, 1, 0, 0, 0, 0, 0],\n",
       "       [0, 0, 0, 0, 0, 0, 0, 0, 0, 0, 0, 0, 1],\n",
       "       [0, 0, 0, 0, 0, 0, 0, 1, 0, 0, 0, 0, 0],\n",
       "       [0, 0, 0, 0, 0, 1, 0, 0, 0, 0, 0, 0, 0],\n",
       "       [0, 0, 1, 0, 0, 0, 0, 0, 0, 0, 0, 0, 0],\n",
       "       [0, 0, 0, 0, 0, 0, 0, 0, 0, 0, 1, 1, 0],\n",
       "       [0, 0, 0, 1, 0, 0, 0, 0, 0, 0, 0, 0, 0],\n",
       "       [0, 0, 0, 0, 0, 0, 1, 0, 0, 1, 0, 0, 0],\n",
       "       [1, 1, 0, 0, 0, 0, 0, 0, 0, 0, 0, 0, 0],\n",
       "       [0, 0, 0, 0, 0, 1, 0, 0, 1, 0, 0, 0, 0],\n",
       "       [0, 0, 0, 0, 0, 0, 0, 1, 0, 0, 0, 0, 0]], dtype=int64)"
      ]
     },
     "execution_count": 118,
     "metadata": {},
     "output_type": "execute_result"
    }
   ],
   "source": [
    "# Sparce Matrix representing botinput strings\n",
    "vectors.toarray() "
   ]
  },
  {
   "cell_type": "code",
   "execution_count": null,
   "metadata": {},
   "outputs": [],
   "source": []
  }
 ],
 "metadata": {
  "kernelspec": {
   "display_name": "Python 3",
   "language": "python",
   "name": "python3"
  },
  "language_info": {
   "codemirror_mode": {
    "name": "ipython",
    "version": 3
   },
   "file_extension": ".py",
   "mimetype": "text/x-python",
   "name": "python",
   "nbconvert_exporter": "python",
   "pygments_lexer": "ipython3",
   "version": "3.6.5"
  }
 },
 "nbformat": 4,
 "nbformat_minor": 2
}
